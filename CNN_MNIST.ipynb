{
 "cells": [
  {
   "cell_type": "code",
   "execution_count": 1,
   "id": "4ce4e5bd-561e-4183-b0a0-e2d7aafd835c",
   "metadata": {},
   "outputs": [],
   "source": [
    "import torch\n",
    "from torchvision import datasets\n",
    "from torchvision import transforms\n",
    "from torchvision.transforms import ToTensor\n",
    "from torch.utils.data import Subset\n",
    "from sklearn.model_selection import train_test_split"
   ]
  },
  {
   "cell_type": "code",
   "execution_count": 2,
   "id": "3f1f5fab-091a-490e-966d-31a42fc007ff",
   "metadata": {},
   "outputs": [
    {
     "data": {
      "text/plain": [
       "device(type='cuda')"
      ]
     },
     "execution_count": 2,
     "metadata": {},
     "output_type": "execute_result"
    }
   ],
   "source": [
    "# Device configuration\n",
    "device = torch.device('cuda' if torch.cuda.is_available() else 'cpu')\n",
    "device"
   ]
  },
  {
   "cell_type": "code",
   "execution_count": 3,
   "id": "96c844f8-b57f-4551-ad0f-fa3fac32040e",
   "metadata": {},
   "outputs": [],
   "source": [
    "# funtion to split the training dataset into training set and validation set\n",
    "def train_val_dataset(dataset, data_split=0.25):\n",
    "    \"\"\"\n",
    "    funtion to split the training dataset into training set and validation set\n",
    "    \n",
    "    Parameters:\n",
    "    -----------\n",
    "    dataset: the dataset to be splited into training set and validation set\n",
    "    data_split: the training and validation datasets spliting ratio (e.g. data_split=0.25 means 25% of the dataset will become validation set and 75% will become trainng set)\n",
    "    \n",
    "    Return:\n",
    "    -------\n",
    "    datasets: return the training dataset which contains the training set and validation set\n",
    "    \"\"\"\n",
    "    \n",
    "    train_idx, val_idx = train_test_split(list(range(len(dataset))), test_size=data_split)\n",
    "    datasets = {}\n",
    "    datasets['train'] = Subset(dataset, train_idx)\n",
    "    datasets['valid'] = Subset(dataset, val_idx)\n",
    "    return datasets"
   ]
  },
  {
   "cell_type": "code",
   "execution_count": 4,
   "id": "9f2d4cd6-1acc-476b-9f74-85d92389fa8f",
   "metadata": {},
   "outputs": [
    {
     "name": "stdout",
     "output_type": "stream",
     "text": [
      "Dataset MNIST\n",
      "    Number of datapoints: 10000\n",
      "    Root location: data\n",
      "    Split: Test\n",
      "    StandardTransform\n",
      "Transform: Compose(\n",
      "               ToTensor()\n",
      "               Normalize(mean=0.1307, std=0.3081)\n",
      "           )\n"
     ]
    }
   ],
   "source": [
    "# define the transformations on the training dataset\n",
    "train_transforms = transforms.Compose([\n",
    "    transforms.ToTensor(),\n",
    "    transforms.Normalize(\n",
    "        mean=(0.1307),\n",
    "        std=(0.3081))\n",
    "])\n",
    "# transforms.RandomAffine(degrees=(-70, 70), translate=(0.1,0.1), scale=(0.9, 1.1)),   # data transformation\n",
    "# transforms.RandomAffine(degrees=30, translate=(0.1,0.1), scale=(0.9, 1.1)),   # data transformation\n",
    "\n",
    "# download the MINST train dataset\n",
    "dataset = datasets.MNIST(\n",
    "    root = 'data',\n",
    "    train = True,\n",
    "    transform = train_transforms,\n",
    "    download = True,\n",
    ")\n",
    "\n",
    "# call the function train_val_dataset to split the training dataset into training set and validation set\n",
    "trainvaliddatasets = train_val_dataset(dataset, data_split=0.15)\n",
    "\n",
    "# define the transformations on the test dataset\n",
    "test_transforms = transforms.Compose([\n",
    "    transforms.ToTensor(),\n",
    "    transforms.Normalize(\n",
    "        mean=(0.1307),\n",
    "        std=(0.3081))\n",
    "])\n",
    "\n",
    "# download the MINST test dataset\n",
    "test_data = datasets.MNIST(\n",
    "    root = 'data',\n",
    "    train = False,\n",
    "    transform = test_transforms,\n",
    "    download = True,\n",
    ")\n",
    "\n",
    "print(test_data)"
   ]
  },
  {
   "cell_type": "code",
   "execution_count": 5,
   "id": "304ed4f6-fa91-413a-b868-be598784ebc6",
   "metadata": {},
   "outputs": [
    {
     "name": "stdout",
     "output_type": "stream",
     "text": [
      "<torch.utils.data.dataloader.DataLoader object at 0x7f17b2e307c0>\n",
      "<torch.utils.data.dataloader.DataLoader object at 0x7f17b2e30790>\n",
      "<torch.utils.data.dataloader.DataLoader object at 0x7f17b2e30df0>\n"
     ]
    }
   ],
   "source": [
    "from torch.utils.data import DataLoader\n",
    "\n",
    "batch_size = 100\n",
    "\n",
    "# create an object named trainLoader of the class DataLoader for train dataset\n",
    "trainLoader = torch.utils.data.DataLoader(trainvaliddatasets['train'],\n",
    "                                          batch_size=batch_size,\n",
    "                                          shuffle=True,\n",
    "                                          num_workers=1)\n",
    "print(trainLoader)\n",
    "\n",
    "# create an object named validLoader of the class DataLoader for validation dataset\n",
    "validLoader = torch.utils.data.DataLoader(trainvaliddatasets['valid'],\n",
    "                                          batch_size=batch_size,\n",
    "                                          shuffle=False,\n",
    "                                          num_workers=1)\n",
    "print(validLoader)\n",
    "\n",
    "# create an object named testLoader of the class DataLoader for test dataset\n",
    "testLoader = torch.utils.data.DataLoader(test_data,\n",
    "                                          batch_size=batch_size,\n",
    "                                          shuffle=False,\n",
    "                                          num_workers=1)\n",
    "print(testLoader)"
   ]
  },
  {
   "cell_type": "code",
   "execution_count": 6,
   "id": "7dcb527b-b5ac-47e6-881b-be5120ffec39",
   "metadata": {},
   "outputs": [
    {
     "data": {
      "image/png": "[encoded data removed]",
      "text/plain": [
       "<Figure size 640x480 with 1 Axes>"
      ]
     },
     "metadata": {},
     "output_type": "display_data"
    }
   ],
   "source": [
    "# visualize one single sample data in the MINST dataset\n",
    "\n",
    "import matplotlib.pyplot as plt\n",
    "\n",
    "train_batch, trainlabels_batch = next(iter(trainLoader))\n",
    "#print(train_batch[0][0].shape)\n",
    "#print(trainlabels_batch.shape)\n",
    "\n",
    "plt.imshow(train_batch[-1][0], cmap='gray')\n",
    "plt.title('{}'.format(trainlabels_batch[-1]))\n",
    "plt.show()"
   ]
  },
  {
   "cell_type": "code",
   "execution_count": 7,
   "id": "695e41d9-58e8-4db0-a281-913ea6952147",
   "metadata": {},
   "outputs": [
    {
     "data": {
      "image/png": "[encoded data removed]",
      "text/plain": [
       "<Figure size 1000x800 with 25 Axes>"
      ]
     },
     "metadata": {},
     "output_type": "display_data"
    }
   ],
   "source": [
    "# visualize multiple digits in the MINST dataset\n",
    "\n",
    "figure  = plt.figure(figsize=(10,8))\n",
    "cols, rows = 5, 5\n",
    "for i in range(1, cols*rows+1):\n",
    "    sample_idx = torch.randint(len(train_batch), size=(1,)).item()\n",
    "    #img, label = train_data[sample_idx]\n",
    "    img = train_batch[sample_idx][0]\n",
    "    label = trainlabels_batch[sample_idx].item()\n",
    "    figure.add_subplot(rows, cols, i)\n",
    "    plt.title(label)\n",
    "    plt.axis(\"off\")\n",
    "    plt.imshow(img.squeeze(), cmap=\"gray\")\n",
    "plt.show()"
   ]
  },
  {
   "cell_type": "markdown",
   "id": "0aa04206-a5d9-44a5-a208-b8bb9bda1ab6",
   "metadata": {},
   "source": [
    "# Convolutional Neural Network model #"
   ]
  },
  {
   "cell_type": "code",
   "execution_count": 8,
   "id": "e733ee14-b89a-4586-8a5e-381afb26f8a3",
   "metadata": {},
   "outputs": [],
   "source": [
    "import torch.nn as nn"
   ]
  },
  {
   "cell_type": "code",
   "execution_count": 9,
   "id": "dcad3d82-b5d2-412e-8e34-cfe6ae24538d",
   "metadata": {},
   "outputs": [],
   "source": [
    "class CNN(nn.Module):\n",
    "    def __init__(self):\n",
    "        super(CNN, self).__init__()\n",
    "        \n",
    "        # first convolutional block\n",
    "        self.conv1 = nn.Sequential(\n",
    "            nn.Conv2d(\n",
    "                in_channels=1,\n",
    "                out_channels=4,\n",
    "                kernel_size=3,\n",
    "                stride=1,\n",
    "                padding=1,\n",
    "            ),\n",
    "            nn.BatchNorm2d(4),\n",
    "            nn.ReLU(),\n",
    "            nn.MaxPool2d(kernel_size=2, stride=2)\n",
    "        )\n",
    "        \n",
    "        # second convolutional block\n",
    "        self.conv2 = nn.Sequential(\n",
    "            nn.Conv2d(\n",
    "                in_channels=4,\n",
    "                out_channels=16,\n",
    "                kernel_size=3,\n",
    "                stride=1,\n",
    "                padding=1,\n",
    "            ),\n",
    "            nn.BatchNorm2d(16),\n",
    "            nn.ReLU(),\n",
    "            nn.MaxPool2d(kernel_size=2, stride=2),\n",
    "        )\n",
    "        \n",
    "        # third convolution block\n",
    "        self.conv3 = nn.Sequential(\n",
    "            nn.Conv2d(\n",
    "                in_channels=16,\n",
    "                out_channels=64,\n",
    "                kernel_size=3,\n",
    "                stride=1,\n",
    "                padding=1,\n",
    "            ),\n",
    "            nn.BatchNorm2d(64),\n",
    "            nn.ReLU(),\n",
    "            nn.MaxPool2d(kernel_size=3, stride=2),\n",
    "        )\n",
    "        \n",
    "        # fully connected layer, output 10 classes\n",
    "        self.fullnn = nn.Sequential(\n",
    "            nn.Dropout(p=0.5),\n",
    "            nn.Linear(in_features=3*3*64, out_features=128),\n",
    "            nn.BatchNorm1d(128),\n",
    "            nn.ReLU(),\n",
    "            nn.Dropout(0.5),\n",
    "            nn.Linear(in_features=128, out_features=32),\n",
    "            nn.BatchNorm1d(32),\n",
    "            nn.ReLU(),\n",
    "            nn.Dropout(0.5),\n",
    "            nn.Linear(in_features=32, out_features=10),\n",
    "        )\n",
    "    \n",
    "    # define the forward pass / forward propogation function\n",
    "    def forward(self, x):\n",
    "        x = self.conv1(x)\n",
    "        x = self.conv2(x)\n",
    "        x = self.conv3(x)\n",
    "        #print(\"x.size(): \", x.size())\n",
    "        #print(\"x.size(0): \", x.size(0))\n",
    "            \n",
    "        ### flatten the output of conv3 to (batch_size, 3*3*64)\n",
    "        x = x.view(x.size(0), -1)   # parameter -1: check https://wandb.ai/ayush-thakur/dl-question-bank/reports/An-Introduction-To-The-PyTorch-View-Function--VmlldzoyMDM0Nzg        \n",
    "            \n",
    "        output = self.fullnn(x)\n",
    "            \n",
    "        # the x is return for visualization\n",
    "        return output, x"
   ]
  },
  {
   "cell_type": "code",
   "execution_count": 10,
   "id": "4af6fd15-744f-442f-9c40-055f6fa85fe2",
   "metadata": {},
   "outputs": [
    {
     "name": "stdout",
     "output_type": "stream",
     "text": [
      "cuda\n",
      "CNN(\n",
      "  (conv1): Sequential(\n",
      "    (0): Conv2d(1, 4, kernel_size=(3, 3), stride=(1, 1), padding=(1, 1))\n",
      "    (1): BatchNorm2d(4, eps=1e-05, momentum=0.1, affine=True, track_running_stats=True)\n",
      "    (2): ReLU()\n",
      "    (3): MaxPool2d(kernel_size=2, stride=2, padding=0, dilation=1, ceil_mode=False)\n",
      "  )\n",
      "  (conv2): Sequential(\n",
      "    (0): Conv2d(4, 16, kernel_size=(3, 3), stride=(1, 1), padding=(1, 1))\n",
      "    (1): BatchNorm2d(16, eps=1e-05, momentum=0.1, affine=True, track_running_stats=True)\n",
      "    (2): ReLU()\n",
      "    (3): MaxPool2d(kernel_size=2, stride=2, padding=0, dilation=1, ceil_mode=False)\n",
      "  )\n",
      "  (conv3): Sequential(\n",
      "    (0): Conv2d(16, 64, kernel_size=(3, 3), stride=(1, 1), padding=(1, 1))\n",
      "    (1): BatchNorm2d(64, eps=1e-05, momentum=0.1, affine=True, track_running_stats=True)\n",
      "    (2): ReLU()\n",
      "    (3): MaxPool2d(kernel_size=3, stride=2, padding=0, dilation=1, ceil_mode=False)\n",
      "  )\n",
      "  (fullnn): Sequential(\n",
      "    (0): Dropout(p=0.5, inplace=False)\n",
      "    (1): Linear(in_features=576, out_features=128, bias=True)\n",
      "    (2): BatchNorm1d(128, eps=1e-05, momentum=0.1, affine=True, track_running_stats=True)\n",
      "    (3): ReLU()\n",
      "    (4): Dropout(p=0.5, inplace=False)\n",
      "    (5): Linear(in_features=128, out_features=32, bias=True)\n",
      "    (6): BatchNorm1d(32, eps=1e-05, momentum=0.1, affine=True, track_running_stats=True)\n",
      "    (7): ReLU()\n",
      "    (8): Dropout(p=0.5, inplace=False)\n",
      "    (9): Linear(in_features=32, out_features=10, bias=True)\n",
      "  )\n",
      ")\n"
     ]
    }
   ],
   "source": [
    "device = ('cuda' if torch.cuda.is_available() else 'cpu')\n",
    "print(device)\n",
    "\n",
    "# instantiation of the model object with super class CNN() and then send the model object to GPU\n",
    "cnn = CNN().to(device=device)\n",
    "print(cnn)"
   ]
  },
  {
   "cell_type": "markdown",
   "id": "c5d342b6-6311-4b99-8e5d-7cd43103bad2",
   "metadata": {},
   "source": [
    "# Loss Function #"
   ]
  },
  {
   "cell_type": "code",
   "execution_count": 11,
   "id": "7daf31ca-09a9-4e4f-8fbb-d8a881fc95ba",
   "metadata": {},
   "outputs": [
    {
     "data": {
      "text/plain": [
       "CrossEntropyLoss()"
      ]
     },
     "execution_count": 11,
     "metadata": {},
     "output_type": "execute_result"
    }
   ],
   "source": [
    "# Define the cost function / loss function\n",
    "loss_func = nn.CrossEntropyLoss()\n",
    "loss_func"
   ]
  },
  {
   "cell_type": "markdown",
   "id": "2c48612b-d4a0-4425-ab89-a4a7d1354841",
   "metadata": {},
   "source": [
    "# Optimization Function #"
   ]
  },
  {
   "cell_type": "code",
   "execution_count": 12,
   "id": "5fc66298-d1e5-4a11-8552-17e9432ce5e9",
   "metadata": {},
   "outputs": [
    {
     "data": {
      "text/plain": [
       "Adam (\n",
       "Parameter Group 0\n",
       "    amsgrad: False\n",
       "    betas: (0.9, 0.999)\n",
       "    eps: 1e-08\n",
       "    lr: 0.0001\n",
       "    maximize: False\n",
       "    weight_decay: 0\n",
       ")"
      ]
     },
     "execution_count": 12,
     "metadata": {},
     "output_type": "execute_result"
    }
   ],
   "source": [
    "from torch import optim\n",
    "\n",
    "# define the optimization function\n",
    "# optimizer = optim.SGD(cnn.parameters(), lr=0.001, momentum=0.9)\n",
    "optimizer = torch.optim.Adam(cnn.parameters(), lr=1e-4)\n",
    "optimizer"
   ]
  },
  {
   "cell_type": "markdown",
   "id": "985b6b23-7a2a-470c-bf97-eb20026f4bab",
   "metadata": {},
   "source": [
    "# Train the model #"
   ]
  },
  {
   "cell_type": "code",
   "execution_count": 13,
   "id": "72c52c70-4709-4caa-b020-3d98b2335aba",
   "metadata": {},
   "outputs": [],
   "source": [
    "from tqdm import tqdm"
   ]
  },
  {
   "cell_type": "code",
   "execution_count": 14,
   "id": "afe6aa9b-0ebc-41df-b4ab-60f81b03f10a",
   "metadata": {},
   "outputs": [],
   "source": [
    "train_losses = []\n",
    "valid_losses = []\n",
    "train_accuracies = []\n",
    "valid_accuracies = []\n",
    "\n",
    "def train(num_epochs, model):\n",
    "    \"\"\"\n",
    "    define a function to train the model\n",
    "    \n",
    "    Paramters:\n",
    "    ----------\n",
    "    num_epochs: number of epochs, i.e. total number of passes through the whole samples in the trainng and validation datasets\n",
    "    model: the created neural network\n",
    "    \n",
    "    Return:\n",
    "    -------\n",
    "    None\n",
    "    \"\"\"\n",
    "    \n",
    "    #for epoch in tqdm(range(num_epochs)):\n",
    "    for epoch in range(num_epochs):\n",
    "        \n",
    "        model.train()\n",
    "        \n",
    "        epoch_train_loss = 0.0\n",
    "        accuracy_train = 0.0\n",
    "        \n",
    "        for i, (images, labels) in enumerate(trainLoader):\n",
    "            \n",
    "            train_x = images.to(device=device)\n",
    "            train_y = labels.to(device=device)\n",
    "            \n",
    "            predict_train, last_layer = model(train_x)\n",
    "            \n",
    "            # to compute the accuracy of the model on the traning dataset\n",
    "            pred_train_y = torch.max(predict_train, 1)[1]\n",
    "            accuracies_train = (pred_train_y == train_y).sum().item() / train_y.size(dim=0)\n",
    "            accuracy_train += accuracies_train\n",
    "            \n",
    "            \n",
    "            train_loss = loss_func(predict_train, train_y)\n",
    "            epoch_train_loss += train_loss.item()\n",
    "            \n",
    "            \n",
    "            # clear gradients for this training step\n",
    "            optimizer.zero_grad()\n",
    "            \n",
    "            # backpropagation, compute gradients\n",
    "            train_loss.backward()\n",
    "            \n",
    "            # apply gradients (update the parameters)\n",
    "            optimizer.step()\n",
    "        \n",
    "        train_losses.append(epoch_train_loss/len(trainLoader))\n",
    "        train_accuracies.append(accuracy_train/len(trainLoader))\n",
    "        \n",
    "        model.eval()\n",
    "        \n",
    "        epoch_valid_loss = 0.0\n",
    "        accuracy_valid = 0.0\n",
    "        \n",
    "        with torch.no_grad():\n",
    "            for i, (images, labels) in enumerate(validLoader):\n",
    "                valid_x = images.to(device=device)\n",
    "                valid_y = labels.to(device=device)\n",
    "                \n",
    "                predict_valid, last_layer = model(valid_x)\n",
    "                \n",
    "                # to compute the accuracy of the model on the validation dataset\n",
    "                pred_valid_y = torch.max(predict_valid, 1)[1]\n",
    "                accuracies_valid = (pred_valid_y == valid_y).sum().item() / valid_y.size(dim=0)\n",
    "                accuracy_valid += accuracies_valid\n",
    "                \n",
    "                valid_loss = loss_func(predict_valid, valid_y)\n",
    "                epoch_valid_loss += valid_loss.item()\n",
    "            \n",
    "            valid_losses.append(epoch_valid_loss/len(validLoader))\n",
    "            valid_accuracies.append(accuracy_valid/len(validLoader))\n",
    "        \n",
    "        print('epoch [{}/{}] | train loss: {:.4f} | validation loss: {:.4f} | train accuracy: {:.4f}% | validation accuracy: {:.4f}%'.format(epoch+1, num_epochs, epoch_train_loss/len(trainLoader), epoch_valid_loss/len(validLoader), (accuracy_train/len(trainLoader))*100, (accuracy_valid/len(validLoader))*100))"
   ]
  },
  {
   "cell_type": "code",
   "execution_count": 15,
   "id": "a9472353-a5ea-481b-9e63-43e5a9a13fdd",
   "metadata": {},
   "outputs": [
    {
     "name": "stdout",
     "output_type": "stream",
     "text": [
      "epoch [1/100] | train loss: 2.0408 | validation loss: 1.5419 | train accuracy: 28.2392% | validation accuracy: 67.0222%\n",
      "epoch [2/100] | train loss: 1.4809 | validation loss: 1.0333 | train accuracy: 55.6824% | validation accuracy: 86.3444%\n",
      "epoch [3/100] | train loss: 1.1132 | validation loss: 0.6545 | train accuracy: 71.5353% | validation accuracy: 93.3889%\n",
      "epoch [4/100] | train loss: 0.8548 | validation loss: 0.4278 | train accuracy: 79.7490% | validation accuracy: 94.9556%\n",
      "epoch [5/100] | train loss: 0.6780 | validation loss: 0.2854 | train accuracy: 84.1882% | validation accuracy: 95.7889%\n",
      "epoch [6/100] | train loss: 0.5669 | validation loss: 0.2070 | train accuracy: 86.4706% | validation accuracy: 96.2889%\n",
      "epoch [7/100] | train loss: 0.4856 | validation loss: 0.1635 | train accuracy: 88.0922% | validation accuracy: 96.5556%\n",
      "epoch [8/100] | train loss: 0.4319 | validation loss: 0.1338 | train accuracy: 89.2314% | validation accuracy: 96.9111%\n",
      "epoch [9/100] | train loss: 0.3889 | validation loss: 0.1150 | train accuracy: 90.1804% | validation accuracy: 97.0889%\n",
      "epoch [10/100] | train loss: 0.3572 | validation loss: 0.1035 | train accuracy: 90.7490% | validation accuracy: 97.3778%\n",
      "epoch [11/100] | train loss: 0.3309 | validation loss: 0.0910 | train accuracy: 91.4922% | validation accuracy: 97.5111%\n",
      "epoch [12/100] | train loss: 0.3063 | validation loss: 0.0832 | train accuracy: 91.8490% | validation accuracy: 97.5444%\n",
      "epoch [13/100] | train loss: 0.2912 | validation loss: 0.0784 | train accuracy: 92.1039% | validation accuracy: 97.6778%\n",
      "epoch [14/100] | train loss: 0.2757 | validation loss: 0.0762 | train accuracy: 92.6000% | validation accuracy: 97.8333%\n",
      "epoch [15/100] | train loss: 0.2621 | validation loss: 0.0699 | train accuracy: 92.8941% | validation accuracy: 97.9889%\n",
      "epoch [16/100] | train loss: 0.2483 | validation loss: 0.0671 | train accuracy: 93.3059% | validation accuracy: 98.0889%\n",
      "epoch [17/100] | train loss: 0.2406 | validation loss: 0.0645 | train accuracy: 93.3784% | validation accuracy: 98.1111%\n",
      "epoch [18/100] | train loss: 0.2319 | validation loss: 0.0622 | train accuracy: 93.6392% | validation accuracy: 98.1111%\n",
      "epoch [19/100] | train loss: 0.2250 | validation loss: 0.0596 | train accuracy: 93.8804% | validation accuracy: 98.2778%\n",
      "epoch [20/100] | train loss: 0.2175 | validation loss: 0.0607 | train accuracy: 94.0725% | validation accuracy: 98.1444%\n",
      "epoch [21/100] | train loss: 0.2145 | validation loss: 0.0580 | train accuracy: 94.0961% | validation accuracy: 98.2333%\n",
      "epoch [22/100] | train loss: 0.2055 | validation loss: 0.0561 | train accuracy: 94.2529% | validation accuracy: 98.3778%\n",
      "epoch [23/100] | train loss: 0.1998 | validation loss: 0.0571 | train accuracy: 94.4706% | validation accuracy: 98.3444%\n",
      "epoch [24/100] | train loss: 0.1924 | validation loss: 0.0554 | train accuracy: 94.8216% | validation accuracy: 98.3889%\n",
      "epoch [25/100] | train loss: 0.1912 | validation loss: 0.0557 | train accuracy: 94.6627% | validation accuracy: 98.3333%\n",
      "epoch [26/100] | train loss: 0.1855 | validation loss: 0.0565 | train accuracy: 95.0020% | validation accuracy: 98.4111%\n",
      "epoch [27/100] | train loss: 0.1816 | validation loss: 0.0542 | train accuracy: 95.0843% | validation accuracy: 98.3889%\n",
      "epoch [28/100] | train loss: 0.1810 | validation loss: 0.0520 | train accuracy: 94.9784% | validation accuracy: 98.4889%\n",
      "epoch [29/100] | train loss: 0.1758 | validation loss: 0.0531 | train accuracy: 95.2451% | validation accuracy: 98.4333%\n",
      "epoch [30/100] | train loss: 0.1737 | validation loss: 0.0524 | train accuracy: 95.2353% | validation accuracy: 98.5111%\n",
      "epoch [31/100] | train loss: 0.1671 | validation loss: 0.0526 | train accuracy: 95.4804% | validation accuracy: 98.4444%\n",
      "epoch [32/100] | train loss: 0.1626 | validation loss: 0.0518 | train accuracy: 95.6078% | validation accuracy: 98.5222%\n",
      "epoch [33/100] | train loss: 0.1590 | validation loss: 0.0511 | train accuracy: 95.7529% | validation accuracy: 98.4889%\n",
      "epoch [34/100] | train loss: 0.1602 | validation loss: 0.0512 | train accuracy: 95.6196% | validation accuracy: 98.5000%\n",
      "epoch [35/100] | train loss: 0.1586 | validation loss: 0.0499 | train accuracy: 95.5627% | validation accuracy: 98.6222%\n",
      "epoch [36/100] | train loss: 0.1533 | validation loss: 0.0494 | train accuracy: 95.8627% | validation accuracy: 98.6000%\n",
      "epoch [37/100] | train loss: 0.1534 | validation loss: 0.0495 | train accuracy: 95.8098% | validation accuracy: 98.6444%\n",
      "epoch [38/100] | train loss: 0.1490 | validation loss: 0.0492 | train accuracy: 95.9490% | validation accuracy: 98.6111%\n",
      "epoch [39/100] | train loss: 0.1453 | validation loss: 0.0500 | train accuracy: 95.9961% | validation accuracy: 98.6556%\n",
      "epoch [40/100] | train loss: 0.1479 | validation loss: 0.0489 | train accuracy: 95.9686% | validation accuracy: 98.5778%\n",
      "epoch [41/100] | train loss: 0.1427 | validation loss: 0.0480 | train accuracy: 96.0333% | validation accuracy: 98.6222%\n",
      "epoch [42/100] | train loss: 0.1361 | validation loss: 0.0482 | train accuracy: 96.2529% | validation accuracy: 98.6000%\n",
      "epoch [43/100] | train loss: 0.1372 | validation loss: 0.0483 | train accuracy: 96.1980% | validation accuracy: 98.5444%\n",
      "epoch [44/100] | train loss: 0.1387 | validation loss: 0.0487 | train accuracy: 96.2490% | validation accuracy: 98.5889%\n",
      "epoch [45/100] | train loss: 0.1337 | validation loss: 0.0479 | train accuracy: 96.3078% | validation accuracy: 98.6667%\n",
      "epoch [46/100] | train loss: 0.1345 | validation loss: 0.0475 | train accuracy: 96.3412% | validation accuracy: 98.6667%\n",
      "epoch [47/100] | train loss: 0.1311 | validation loss: 0.0470 | train accuracy: 96.3373% | validation accuracy: 98.6667%\n",
      "epoch [48/100] | train loss: 0.1298 | validation loss: 0.0467 | train accuracy: 96.4216% | validation accuracy: 98.6778%\n",
      "epoch [49/100] | train loss: 0.1270 | validation loss: 0.0464 | train accuracy: 96.5765% | validation accuracy: 98.7556%\n",
      "epoch [50/100] | train loss: 0.1281 | validation loss: 0.0479 | train accuracy: 96.5255% | validation accuracy: 98.6333%\n",
      "epoch [51/100] | train loss: 0.1230 | validation loss: 0.0480 | train accuracy: 96.6569% | validation accuracy: 98.6889%\n",
      "epoch [52/100] | train loss: 0.1237 | validation loss: 0.0460 | train accuracy: 96.6686% | validation accuracy: 98.8778%\n",
      "epoch [53/100] | train loss: 0.1216 | validation loss: 0.0477 | train accuracy: 96.6804% | validation accuracy: 98.7667%\n",
      "epoch [54/100] | train loss: 0.1225 | validation loss: 0.0464 | train accuracy: 96.6765% | validation accuracy: 98.8444%\n",
      "epoch [55/100] | train loss: 0.1199 | validation loss: 0.0453 | train accuracy: 96.7549% | validation accuracy: 98.8111%\n",
      "epoch [56/100] | train loss: 0.1193 | validation loss: 0.0466 | train accuracy: 96.7196% | validation accuracy: 98.8111%\n",
      "epoch [57/100] | train loss: 0.1157 | validation loss: 0.0473 | train accuracy: 96.7843% | validation accuracy: 98.7556%\n",
      "epoch [58/100] | train loss: 0.1150 | validation loss: 0.0470 | train accuracy: 96.8353% | validation accuracy: 98.7444%\n",
      "epoch [59/100] | train loss: 0.1147 | validation loss: 0.0471 | train accuracy: 96.8314% | validation accuracy: 98.7111%\n",
      "epoch [60/100] | train loss: 0.1165 | validation loss: 0.0488 | train accuracy: 96.8961% | validation accuracy: 98.7222%\n",
      "epoch [61/100] | train loss: 0.1166 | validation loss: 0.0476 | train accuracy: 96.8647% | validation accuracy: 98.7444%\n",
      "epoch [62/100] | train loss: 0.1163 | validation loss: 0.0484 | train accuracy: 96.8686% | validation accuracy: 98.7222%\n",
      "epoch [63/100] | train loss: 0.1136 | validation loss: 0.0468 | train accuracy: 96.7980% | validation accuracy: 98.7444%\n",
      "epoch [64/100] | train loss: 0.1086 | validation loss: 0.0460 | train accuracy: 97.0686% | validation accuracy: 98.8778%\n",
      "epoch [65/100] | train loss: 0.1109 | validation loss: 0.0496 | train accuracy: 96.9529% | validation accuracy: 98.7333%\n",
      "epoch [66/100] | train loss: 0.1096 | validation loss: 0.0478 | train accuracy: 97.0294% | validation accuracy: 98.7889%\n",
      "epoch [67/100] | train loss: 0.1040 | validation loss: 0.0481 | train accuracy: 97.0882% | validation accuracy: 98.7778%\n",
      "epoch [68/100] | train loss: 0.1080 | validation loss: 0.0460 | train accuracy: 97.0353% | validation accuracy: 98.8778%\n",
      "epoch [69/100] | train loss: 0.1032 | validation loss: 0.0468 | train accuracy: 97.2039% | validation accuracy: 98.8333%\n",
      "epoch [70/100] | train loss: 0.1070 | validation loss: 0.0453 | train accuracy: 97.0216% | validation accuracy: 98.9000%\n",
      "epoch [71/100] | train loss: 0.1089 | validation loss: 0.0439 | train accuracy: 96.9627% | validation accuracy: 98.9111%\n",
      "epoch [72/100] | train loss: 0.1056 | validation loss: 0.0484 | train accuracy: 97.1373% | validation accuracy: 98.8556%\n",
      "epoch [73/100] | train loss: 0.1000 | validation loss: 0.0471 | train accuracy: 97.3235% | validation accuracy: 98.8333%\n",
      "epoch [74/100] | train loss: 0.1022 | validation loss: 0.0488 | train accuracy: 97.1980% | validation accuracy: 98.8556%\n",
      "epoch [75/100] | train loss: 0.1010 | validation loss: 0.0451 | train accuracy: 97.2196% | validation accuracy: 98.9444%\n",
      "epoch [76/100] | train loss: 0.0986 | validation loss: 0.0466 | train accuracy: 97.2000% | validation accuracy: 98.9000%\n",
      "epoch [77/100] | train loss: 0.1029 | validation loss: 0.0480 | train accuracy: 97.2059% | validation accuracy: 98.8444%\n",
      "epoch [78/100] | train loss: 0.0984 | validation loss: 0.0470 | train accuracy: 97.2314% | validation accuracy: 98.8778%\n",
      "epoch [79/100] | train loss: 0.1020 | validation loss: 0.0469 | train accuracy: 97.1922% | validation accuracy: 98.8778%\n",
      "epoch [80/100] | train loss: 0.1001 | validation loss: 0.0448 | train accuracy: 97.2922% | validation accuracy: 98.9111%\n",
      "epoch [81/100] | train loss: 0.0982 | validation loss: 0.0446 | train accuracy: 97.2647% | validation accuracy: 98.9000%\n",
      "epoch [82/100] | train loss: 0.0954 | validation loss: 0.0463 | train accuracy: 97.2843% | validation accuracy: 98.9667%\n",
      "epoch [83/100] | train loss: 0.0960 | validation loss: 0.0448 | train accuracy: 97.2667% | validation accuracy: 98.9444%\n",
      "epoch [84/100] | train loss: 0.0963 | validation loss: 0.0452 | train accuracy: 97.3235% | validation accuracy: 98.9000%\n",
      "epoch [85/100] | train loss: 0.0959 | validation loss: 0.0461 | train accuracy: 97.3333% | validation accuracy: 98.9111%\n",
      "epoch [86/100] | train loss: 0.0935 | validation loss: 0.0469 | train accuracy: 97.3588% | validation accuracy: 98.8444%\n",
      "epoch [87/100] | train loss: 0.0951 | validation loss: 0.0462 | train accuracy: 97.4255% | validation accuracy: 98.9000%\n",
      "epoch [88/100] | train loss: 0.0926 | validation loss: 0.0456 | train accuracy: 97.3608% | validation accuracy: 98.9778%\n",
      "epoch [89/100] | train loss: 0.0943 | validation loss: 0.0452 | train accuracy: 97.2961% | validation accuracy: 98.9444%\n",
      "epoch [90/100] | train loss: 0.0926 | validation loss: 0.0458 | train accuracy: 97.5039% | validation accuracy: 98.9000%\n",
      "epoch [91/100] | train loss: 0.0923 | validation loss: 0.0449 | train accuracy: 97.3784% | validation accuracy: 98.9222%\n",
      "epoch [92/100] | train loss: 0.0922 | validation loss: 0.0457 | train accuracy: 97.3941% | validation accuracy: 98.9111%\n",
      "epoch [93/100] | train loss: 0.0943 | validation loss: 0.0459 | train accuracy: 97.3510% | validation accuracy: 98.9667%\n",
      "epoch [94/100] | train loss: 0.0893 | validation loss: 0.0476 | train accuracy: 97.5431% | validation accuracy: 98.8667%\n",
      "epoch [95/100] | train loss: 0.0894 | validation loss: 0.0449 | train accuracy: 97.4510% | validation accuracy: 98.9111%\n",
      "epoch [96/100] | train loss: 0.0877 | validation loss: 0.0462 | train accuracy: 97.5765% | validation accuracy: 98.8889%\n",
      "epoch [97/100] | train loss: 0.0925 | validation loss: 0.0455 | train accuracy: 97.5725% | validation accuracy: 98.8667%\n",
      "epoch [98/100] | train loss: 0.0919 | validation loss: 0.0465 | train accuracy: 97.4725% | validation accuracy: 98.8778%\n",
      "epoch [99/100] | train loss: 0.0882 | validation loss: 0.0475 | train accuracy: 97.4373% | validation accuracy: 98.8444%\n",
      "epoch [100/100] | train loss: 0.0898 | validation loss: 0.0456 | train accuracy: 97.4784% | validation accuracy: 98.9778%\n"
     ]
    }
   ],
   "source": [
    "num_epochs = 100   # define the number of epochs\n",
    "\n",
    "# call the train function to train the model\n",
    "train(num_epochs, cnn)\n",
    "#print(train_losses)"
   ]
  },
  {
   "cell_type": "code",
   "execution_count": 16,
   "id": "660a9c81-3478-4238-b7c3-86845018e1f8",
   "metadata": {},
   "outputs": [
    {
     "data": {
      "image/png": "[encoded data removed]",
      "text/plain": [
       "<Figure size 800x640 with 1 Axes>"
      ]
     },
     "metadata": {},
     "output_type": "display_data"
    }
   ],
   "source": [
    "# plot the training and validation losses versus epochs\n",
    "\n",
    "import numpy as np\n",
    "import matplotlib.pyplot as plt\n",
    "from matplotlib.pyplot import figure\n",
    "\n",
    "figure(figsize=(10, 8), dpi=80)\n",
    "\n",
    "epochs_range = np.arange(1,num_epochs+1)\n",
    "\n",
    "# plotting\n",
    "plt.title(\"Train loss and valid loss vs epochs\")\n",
    "plt.xlabel(\"epoch\")\n",
    "plt.ylabel(\"losses\")\n",
    "\n",
    "plt.plot(epochs_range, train_losses, color =\"red\")\n",
    "plt.plot(epochs_range, valid_losses, color =\"blue\")\n",
    "plt.legend(['train loss', 'valid loss'], loc='best')\n",
    "plt.show()"
   ]
  },
  {
   "cell_type": "code",
   "execution_count": 17,
   "id": "f5ebd6ce-9810-44bc-a31e-a2f9225be6dc",
   "metadata": {},
   "outputs": [
    {
     "data": {
      "image/png": "[encoded data removed]",
      "text/plain": [
       "<Figure size 800x640 with 1 Axes>"
      ]
     },
     "metadata": {},
     "output_type": "display_data"
    }
   ],
   "source": [
    "# plot the accuracies on the training and validation datasets versus epochs\n",
    "\n",
    "figure(figsize=(10, 8), dpi=80)\n",
    "\n",
    "epochs_range = np.arange(1,num_epochs+1)\n",
    "\n",
    "# plotting\n",
    "plt.title(\"Train accuracy and valid accuracy vs epochs\")\n",
    "plt.xlabel(\"epoch\")\n",
    "plt.ylabel(\"accuracies\")\n",
    "\n",
    "plt.plot(epochs_range, train_accuracies, color =\"red\")\n",
    "plt.plot(epochs_range, valid_accuracies, color =\"blue\")\n",
    "plt.legend(['train accuracy', 'valid accuracy'], loc='best')\n",
    "plt.show()"
   ]
  },
  {
   "cell_type": "markdown",
   "id": "45a2bacf-59b5-4cf5-bf36-f7944a6349f1",
   "metadata": {},
   "source": [
    "# Test the model #"
   ]
  },
  {
   "cell_type": "code",
   "execution_count": 18,
   "id": "57123418-a16b-48f4-84ee-c10eef6a88c5",
   "metadata": {},
   "outputs": [],
   "source": [
    "accuracy_list = []\n",
    "\n",
    "# function of computing the accuracy of the model on all the test images\n",
    "def test(model, loader):\n",
    "    \"\"\"\n",
    "    function of computing the accuracy of the model on all the test images\n",
    "    \n",
    "    Paramters:\n",
    "    ----------\n",
    "    model: neural network model\n",
    "    loader: dataloader object to load the test dataset\n",
    "    \n",
    "    Return:\n",
    "    -------\n",
    "    None\n",
    "    \"\"\"\n",
    "    # test the model\n",
    "    model.eval()\n",
    "    \n",
    "    with torch.no_grad():\n",
    "        correct = 0\n",
    "        total = 0\n",
    "        \n",
    "        for i, (images, labels) in enumerate(testLoader):\n",
    "            images = images.to(device=device)\n",
    "            labels = labels.to(device=device)\n",
    "            test_output, last_layer = model(images)\n",
    "            \n",
    "            pred_y = torch.max(test_output, 1)[1]\n",
    "            \n",
    "            accuracy = (pred_y == labels).sum().item() / labels.size(dim=0)\n",
    "            \n",
    "            accuracy_list.append(accuracy)"
   ]
  },
  {
   "cell_type": "code",
   "execution_count": 19,
   "id": "9aa5a968-7c55-4205-b504-85cf515992b4",
   "metadata": {},
   "outputs": [
    {
     "name": "stdout",
     "output_type": "stream",
     "text": [
      "The accuracy of the model on all test images is 99.11%.\n"
     ]
    }
   ],
   "source": [
    "test(cnn, testLoader)\n",
    "\n",
    "# print(accuracy_list)\n",
    "\n",
    "accuracy = sum(accuracy_list) / len(accuracy_list)\n",
    "\n",
    "print(\"The accuracy of the model on all test images is {:.2f}%.\".format(accuracy*100))"
   ]
  },
  {
   "cell_type": "code",
   "execution_count": null,
   "id": "73efdbd2-79c7-4af0-908e-8b8defe1d637",
   "metadata": {},
   "outputs": [],
   "source": []
  }
 ],
 "metadata": {
  "kernelspec": {
   "display_name": "Python 3 (ipykernel)",
   "language": "python",
   "name": "python3"
  },
  "language_info": {
   "codemirror_mode": {
    "name": "ipython",
    "version": 3
   },
   "file_extension": ".py",
   "mimetype": "text/x-python",
   "name": "python",
   "nbconvert_exporter": "python",
   "pygments_lexer": "ipython3",
   "version": "3.9.12"
  }
 },
 "nbformat": 4,
 "nbformat_minor": 5
}
